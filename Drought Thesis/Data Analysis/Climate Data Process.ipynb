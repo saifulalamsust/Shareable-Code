{
 "cells": [
  {
   "cell_type": "code",
   "execution_count": 44,
   "id": "30f11375",
   "metadata": {},
   "outputs": [
    {
     "data": {
      "text/html": [
       "<div>\n",
       "<style scoped>\n",
       "    .dataframe tbody tr th:only-of-type {\n",
       "        vertical-align: middle;\n",
       "    }\n",
       "\n",
       "    .dataframe tbody tr th {\n",
       "        vertical-align: top;\n",
       "    }\n",
       "\n",
       "    .dataframe thead th {\n",
       "        text-align: right;\n",
       "    }\n",
       "</style>\n",
       "<table border=\"1\" class=\"dataframe\">\n",
       "  <thead>\n",
       "    <tr style=\"text-align: right;\">\n",
       "      <th></th>\n",
       "      <th>Date</th>\n",
       "      <th>Barishal</th>\n",
       "      <th>Bhola</th>\n",
       "      <th>Bogra</th>\n",
       "      <th>Chandpur</th>\n",
       "      <th>Chittagong</th>\n",
       "      <th>Cox's Bazar</th>\n",
       "      <th>Cumilla</th>\n",
       "      <th>Dhaka</th>\n",
       "      <th>Dinajpur</th>\n",
       "      <th>...</th>\n",
       "      <th>Rajshahi</th>\n",
       "      <th>Rangamati</th>\n",
       "      <th>Rangpur</th>\n",
       "      <th>Sandwip</th>\n",
       "      <th>Satkhira</th>\n",
       "      <th>Sitakunda</th>\n",
       "      <th>Srimangal</th>\n",
       "      <th>Sylhet</th>\n",
       "      <th>Tangail</th>\n",
       "      <th>Teknaf</th>\n",
       "    </tr>\n",
       "  </thead>\n",
       "  <tbody>\n",
       "    <tr>\n",
       "      <th>491</th>\n",
       "      <td>2021-12-01</td>\n",
       "      <td>66</td>\n",
       "      <td>67</td>\n",
       "      <td>1</td>\n",
       "      <td>126</td>\n",
       "      <td>95.0</td>\n",
       "      <td>39</td>\n",
       "      <td>164</td>\n",
       "      <td>153</td>\n",
       "      <td>5</td>\n",
       "      <td>...</td>\n",
       "      <td>1</td>\n",
       "      <td>73.0</td>\n",
       "      <td>5.0</td>\n",
       "      <td>61.0</td>\n",
       "      <td>87</td>\n",
       "      <td>66</td>\n",
       "      <td>66.0</td>\n",
       "      <td>14</td>\n",
       "      <td>38</td>\n",
       "      <td>21.0</td>\n",
       "    </tr>\n",
       "  </tbody>\n",
       "</table>\n",
       "<p>1 rows × 31 columns</p>\n",
       "</div>"
      ],
      "text/plain": [
       "          Date  Barishal  Bhola  Bogra  Chandpur  Chittagong  Cox's Bazar  \\\n",
       "491 2021-12-01        66     67      1       126        95.0           39   \n",
       "\n",
       "     Cumilla  Dhaka  Dinajpur  ...  Rajshahi  Rangamati  Rangpur  Sandwip  \\\n",
       "491      164    153         5  ...         1       73.0      5.0     61.0   \n",
       "\n",
       "     Satkhira  Sitakunda  Srimangal  Sylhet  Tangail  Teknaf  \n",
       "491        87         66       66.0      14       38    21.0  \n",
       "\n",
       "[1 rows x 31 columns]"
      ]
     },
     "execution_count": 44,
     "metadata": {},
     "output_type": "execute_result"
    }
   ],
   "source": [
    "import pandas as pd\n",
    "import os\n",
    "\n",
    "file_path = r'F:\\Research\\Drought Thesis\\Analysis\\SDSM\\Calibration And Validation MPI\\Rainfall\\New\\Observed_monthly_rainfall_1981-2021.csv'\n",
    "\n",
    "df1 = pd.read_csv(file_path)\n",
    "\n",
    "start_date = '01/1981'\n",
    "end_date = '12/2021'\n",
    "\n",
    "date_range = pd.date_range(start=start_date, end=end_date, freq='MS')\n",
    "\n",
    "df1.insert(0, 'Date', date_range)\n",
    "\n",
    "\n",
    "\n",
    "df = df1.iloc[409:, :]\n",
    "df.tail(1)"
   ]
  },
  {
   "cell_type": "code",
   "execution_count": 45,
   "id": "6f7e9960",
   "metadata": {
    "scrolled": true
   },
   "outputs": [
    {
     "name": "stdout",
     "output_type": "stream",
     "text": [
      "             Barishal       Bhola       Bogra    Chandpur  Chittagong  \\\n",
      "Date                                                                    \n",
      "January      9.166667   10.833333    4.833333    6.166667   11.166667   \n",
      "February    17.428571   14.428571   19.285714   27.000000    2.285714   \n",
      "March       18.428571   35.000000   28.285714   35.571429   32.142857   \n",
      "April      137.428571  132.857143  101.428571  153.857143  118.428571   \n",
      "May        192.571429  194.571429  305.428571  262.285714  209.000000   \n",
      "June       382.000000  428.714286  295.142857  404.000000  538.571429   \n",
      "July       467.000000  451.285714  380.571429  508.000000  960.571429   \n",
      "August     337.571429  388.285714  223.428571  414.428571  527.857143   \n",
      "September  262.571429  256.857143  181.428571  212.285714  348.714286   \n",
      "October    203.571429  197.714286  141.857143  180.857143  223.714286   \n",
      "November    71.000000   67.428571    0.714286   43.571429   44.000000   \n",
      "December    20.285714   25.857143    5.000000   37.000000   19.714286   \n",
      "\n",
      "           Cox's Bazar     Cumilla       Dhaka    Dinajpur    Faridpur  ...  \\\n",
      "Date                                                                    ...   \n",
      "January       8.833333    6.666667    4.166667    3.500000    4.333333  ...   \n",
      "February      1.857143   22.000000   24.000000    5.285714   19.571429  ...   \n",
      "March        48.428571   52.285714   33.428571   30.428571   22.285714  ...   \n",
      "April        89.857143  193.571429  162.285714   89.428571  113.142857  ...   \n",
      "May         173.857143  280.285714  246.428571  265.428571  211.000000  ...   \n",
      "June        789.714286  343.000000  346.571429  236.285714  263.142857  ...   \n",
      "July       1168.285714  557.714286  440.857143  373.142857  530.857143  ...   \n",
      "August      647.571429  265.285714  286.857143  368.714286  355.285714  ...   \n",
      "September   436.000000  282.571429  197.571429  358.714286  237.857143  ...   \n",
      "October     294.714286  126.857143  176.857143  148.428571  115.571429  ...   \n",
      "November     30.857143   48.142857   21.142857    0.428571   60.000000  ...   \n",
      "December     15.714286   50.142857   29.285714    3.714286   33.000000  ...   \n",
      "\n",
      "             Rajshahi   Rangamati     Rangpur      Sandwip    Satkhira  \\\n",
      "Date                                                                     \n",
      "January     10.000000   10.166667    3.666667     7.000000    6.166667   \n",
      "February    10.857143   18.000000    7.714286     8.000000   39.428571   \n",
      "March       30.285714   27.000000   44.142857    53.714286   37.000000   \n",
      "April       90.714286  167.428571  122.428571   163.285714   53.142857   \n",
      "May        176.000000  219.285714  331.428571   269.857143  158.857143   \n",
      "June       191.571429  613.285714  319.571429   642.142857  273.000000   \n",
      "July       337.000000  668.000000  441.000000  1129.714286  375.000000   \n",
      "August     199.428571  428.428571  341.857143   640.857143  313.142857   \n",
      "September  172.857143  307.857143  394.714286   522.285714  212.857143   \n",
      "October    116.285714  201.142857  136.285714   278.571429  149.571429   \n",
      "November     2.142857   45.000000    0.000000    65.142857   35.142857   \n",
      "December     5.571429   20.714286    2.571429    16.571429   24.714286   \n",
      "\n",
      "             Sitakunda   Srimangal      Sylhet     Tangail       Teknaf  \n",
      "Date                                                                     \n",
      "January      11.166667    9.833333    4.833333    6.000000    17.333333  \n",
      "February     45.714286   34.428571   39.428571   16.714286     0.142857  \n",
      "March        28.428571   79.000000  112.714286   25.285714    32.714286  \n",
      "April       184.857143  276.714286  497.571429  174.000000    57.142857  \n",
      "May         237.000000  427.285714  606.428571  261.714286   169.000000  \n",
      "June        708.000000  438.000000  779.142857  327.571429   891.428571  \n",
      "July       1037.285714  335.285714  716.571429  387.571429  1321.428571  \n",
      "August      561.428571  340.000000  638.714286  259.285714   795.714286  \n",
      "September   433.571429  252.571429  544.000000  184.000000   550.000000  \n",
      "October     219.000000  195.857143  234.000000  163.285714   235.142857  \n",
      "November     40.142857   43.142857   25.000000    7.571429    33.142857  \n",
      "December     18.571429   35.428571   21.000000   16.571429    10.428571  \n",
      "\n",
      "[12 rows x 30 columns]\n"
     ]
    },
    {
     "name": "stderr",
     "output_type": "stream",
     "text": [
      "C:\\Users\\S_PC\\AppData\\Local\\Temp\\ipykernel_18544\\2336117470.py:1: SettingWithCopyWarning: \n",
      "A value is trying to be set on a copy of a slice from a DataFrame.\n",
      "Try using .loc[row_indexer,col_indexer] = value instead\n",
      "\n",
      "See the caveats in the documentation: https://pandas.pydata.org/pandas-docs/stable/user_guide/indexing.html#returning-a-view-versus-a-copy\n",
      "  df['Date'] = pd.to_datetime(df['Date'], format='%Y/%m/%d', errors='coerce')\n"
     ]
    }
   ],
   "source": [
    "\n",
    "df['Date'] = pd.to_datetime(df['Date'], format='%Y/%m/%d', errors='coerce')\n",
    "#df['Date'] = pd.to_datetime(df['Date'], format='%d-%m-%Y', errors='coerce')\n",
    "df.set_index('Date', inplace=True)\n",
    "\n",
    "##Each Month Average Defining\n",
    "monthly_avg = df.groupby(df.index.month).mean()\n",
    "monthly_avg.index = monthly_avg.index.map(lambda x: pd.to_datetime(x, format='%m').strftime('%B'))\n",
    "\n",
    "print(monthly_avg)\n",
    "\n",
    "#Monthly Average Data Calculation\n",
    "#monthly_avg = df.groupby(pd.Grouper(freq='M')).mean()\n"
   ]
  },
  {
   "cell_type": "code",
   "execution_count": 46,
   "id": "c6a07f59",
   "metadata": {},
   "outputs": [],
   "source": [
    "output_folder = r'F:\\Research\\Drought Thesis\\Analysis\\SDSM\\Calibration And Validation MPI\\Rainfall\\Validation'\n",
    "file_name = 'Rainfall_OBS_Validation.csv'\n",
    "\n",
    "monthly_avg.to_csv(os.path.join(output_folder, file_name))\n"
   ]
  },
  {
   "cell_type": "code",
   "execution_count": null,
   "id": "fdc0eec0",
   "metadata": {},
   "outputs": [],
   "source": []
  },
  {
   "cell_type": "code",
   "execution_count": null,
   "id": "8cc8a209",
   "metadata": {},
   "outputs": [],
   "source": []
  },
  {
   "cell_type": "code",
   "execution_count": 70,
   "id": "3d8cb74e",
   "metadata": {},
   "outputs": [
    {
     "name": "stderr",
     "output_type": "stream",
     "text": [
      "C:\\Users\\S_PC\\AppData\\Local\\Temp\\ipykernel_18544\\306881696.py:11: UserWarning: Parsing dates in DD/MM/YYYY format when dayfirst=False (the default) was specified. This may lead to inconsistently parsed dates! Specify a format to ensure consistent parsing.\n",
      "  date_range = pd.date_range(start=start_date, end=end_date, freq='D')\n"
     ]
    },
    {
     "data": {
      "text/html": [
       "<div>\n",
       "<style scoped>\n",
       "    .dataframe tbody tr th:only-of-type {\n",
       "        vertical-align: middle;\n",
       "    }\n",
       "\n",
       "    .dataframe tbody tr th {\n",
       "        vertical-align: top;\n",
       "    }\n",
       "\n",
       "    .dataframe thead th {\n",
       "        text-align: right;\n",
       "    }\n",
       "</style>\n",
       "<table border=\"1\" class=\"dataframe\">\n",
       "  <thead>\n",
       "    <tr style=\"text-align: right;\">\n",
       "      <th></th>\n",
       "      <th>Date</th>\n",
       "      <th>19.957489138205744</th>\n",
       "    </tr>\n",
       "  </thead>\n",
       "  <tbody>\n",
       "    <tr>\n",
       "      <th>2556</th>\n",
       "      <td>2021-12-31</td>\n",
       "      <td>20.599615</td>\n",
       "    </tr>\n",
       "  </tbody>\n",
       "</table>\n",
       "</div>"
      ],
      "text/plain": [
       "           Date  19.957489138205744\n",
       "2556 2021-12-31           20.599615"
      ]
     },
     "execution_count": 70,
     "metadata": {},
     "output_type": "execute_result"
    }
   ],
   "source": [
    "import pandas as pd\n",
    "import os\n",
    "\n",
    "file_path = r'F:\\Research\\Drought Thesis\\Analysis\\SDSM\\Station\\Sylhet\\Raw File\\MPI & NorESM2\\MPI-ESM1-2-HR_ssp245_BOX_034X_41Y\\Original\\temp_day_MPI-ESM1-2-HR_ssp245_r1i1p1f1_gr_20150101-21001231_og.csv'\n",
    "\n",
    "df1 = pd.read_csv(file_path)\n",
    "\n",
    "start_date = '01/01/1981'\n",
    "end_date = '30/12/2010'\n",
    "\n",
    "date_range = pd.date_range(start=start_date, end=end_date, freq='D')\n",
    "\n",
    "df1.insert(0, 'Date', date_range)\n",
    "\n",
    "df1.head()\n",
    "\n",
    "df = df1"
   ]
  },
  {
   "cell_type": "code",
   "execution_count": 71,
   "id": "52295edc",
   "metadata": {},
   "outputs": [
    {
     "name": "stdout",
     "output_type": "stream",
     "text": [
      "           19.957489138205744\n",
      "Date                         \n",
      "January             18.327898\n",
      "February            21.496424\n",
      "March               26.004793\n",
      "April               29.408868\n",
      "May                 31.589860\n",
      "June                30.122276\n",
      "July                28.853849\n",
      "August              28.455350\n",
      "September           27.766532\n",
      "October             26.596122\n",
      "November            22.682480\n",
      "December            19.031020\n"
     ]
    },
    {
     "name": "stderr",
     "output_type": "stream",
     "text": [
      "C:\\Users\\S_PC\\AppData\\Local\\Temp\\ipykernel_18544\\378374914.py:1: SettingWithCopyWarning: \n",
      "A value is trying to be set on a copy of a slice from a DataFrame.\n",
      "Try using .loc[row_indexer,col_indexer] = value instead\n",
      "\n",
      "See the caveats in the documentation: https://pandas.pydata.org/pandas-docs/stable/user_guide/indexing.html#returning-a-view-versus-a-copy\n",
      "  df['Date'] = pd.to_datetime(df['Date'], format='%Y/%m/%d', errors='coerce')\n"
     ]
    }
   ],
   "source": [
    "df['Date'] = pd.to_datetime(df['Date'], format='%Y/%m/%d', errors='coerce')\n",
    "#df['Date'] = pd.to_datetime(df['Date'], format='%d-%m-%Y', errors='coerce')\n",
    "df.set_index('Date', inplace=True)\n",
    "\n",
    "##Each Month Average Defining\n",
    "monthly_avg = df.groupby(df.index.month).mean()\n",
    "monthly_avg.index = monthly_avg.index.map(lambda x: pd.to_datetime(x, format='%m').strftime('%B'))\n",
    "\n",
    "print(monthly_avg)\n",
    "\n",
    "#Monthly Average Data Calculation\n",
    "#monthly_avg = df.groupby(pd.Grouper(freq='M')).mean()"
   ]
  },
  {
   "cell_type": "code",
   "execution_count": 72,
   "id": "6c4ae7e1",
   "metadata": {},
   "outputs": [],
   "source": [
    "output_folder = r'F:\\Research\\Drought Thesis\\Analysis\\SDSM\\Calibration And Validation MPI\\Row GCM'\n",
    "file_name = 'Temperature GCM Validation.csv'\n",
    "\n",
    "monthly_avg.to_csv(os.path.join(output_folder, file_name))"
   ]
  }
 ],
 "metadata": {
  "kernelspec": {
   "display_name": "Python 3 (ipykernel)",
   "language": "python",
   "name": "python3"
  },
  "language_info": {
   "codemirror_mode": {
    "name": "ipython",
    "version": 3
   },
   "file_extension": ".py",
   "mimetype": "text/x-python",
   "name": "python",
   "nbconvert_exporter": "python",
   "pygments_lexer": "ipython3",
   "version": "3.10.9"
  }
 },
 "nbformat": 4,
 "nbformat_minor": 5
}
