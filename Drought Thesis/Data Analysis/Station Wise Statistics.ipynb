{
 "cells": [
  {
   "cell_type": "code",
   "execution_count": 9,
   "id": "031342b0",
   "metadata": {},
   "outputs": [
    {
     "name": "stdout",
     "output_type": "stream",
     "text": [
      "          Station   NSE    MSE    R2\n",
      "0         Barisal  0.09  25.43  0.01\n",
      "1           Bhola  0.08  23.89 -0.00\n",
      "2           Bogra  0.09  25.71  0.00\n",
      "3        Chandpur  0.10  18.51  0.02\n",
      "4      Chittagong  0.06  15.57 -0.03\n",
      "5         Comilla  0.05  22.15 -0.03\n",
      "6     Cox's Bazar -0.05  13.86 -0.15\n",
      "7           Dhaka  0.08  18.55  0.00\n",
      "8        Dinajpur  0.10  32.19  0.01\n",
      "9      Faridpur    0.09  24.34  0.01\n",
      "10           Feni  0.09  20.42  0.01\n",
      "11         Hatiya  0.10  19.01  0.01\n",
      "12       Ishwardi  0.08  31.37  0.00\n",
      "13    Jessore      0.08  29.44 -0.00\n",
      "14      Khepupara  0.08  22.11 -0.00\n",
      "15     Khulna      0.09  22.52  0.01\n",
      "16      Madaripur  0.08  25.14 -0.00\n",
      "17  Maijdee Court  0.07  17.63 -0.02\n",
      "18     Mymensingh  0.08  25.22 -0.00\n",
      "19     Patuakhali  0.08  20.75 -0.01\n",
      "20   Rajshahi      0.08  31.56 -0.00\n",
      "21      Rangamati  0.08  19.14  0.00\n",
      "22    Rangpur      0.10  26.89  0.02\n",
      "23        Sandwip  0.09  19.84  0.00\n",
      "24       Satkhira  0.08  25.74  0.00\n",
      "25      Sitakunda  0.08  24.42 -0.00\n",
      "26  Srimangal      0.09  29.76  0.00\n",
      "27       Sylhet    0.08  17.51 -0.00\n",
      "28     Tangail     0.08  24.68  0.00\n",
      "29         Teknaf  0.08  16.51 -0.01\n"
     ]
    }
   ],
   "source": [
    "import pandas as pd\n",
    "from sklearn.metrics import mean_squared_error, r2_score\n",
    "\n",
    "# File paths\n",
    "observed_file_path = 'F:\\Research\\Drought Thesis\\Analysis\\SDSM\\Calibration And Validation MPI\\Tmin\\Validation\\OBS_Tmin_validation.xlsx'\n",
    "downscaled_file_path = 'F:\\Research\\Drought Thesis\\Analysis\\SDSM\\Calibration And Validation MPI\\Tmin\\Validation\\Tmin_Validation.csv'\n",
    "\n",
    "# Read Excel files\n",
    "df_observed = pd.read_excel(observed_file_path)\n",
    "df_downscaled = pd.read_csv(downscaled_file_path)\n",
    "\n",
    "# Get the list of station names (assuming station names are in the columns starting from the 2nd column)\n",
    "stations_observed = df_observed.columns[1:]\n",
    "stations_downscaled = df_downscaled.columns[1:]\n",
    "\n",
    "# Calculate NSE, MSE, and R2 for each station in the observed data\n",
    "results = []\n",
    "for station in stations_observed:\n",
    "    observed_data = df_observed[station]\n",
    "    downscaled_data = df_downscaled[station]\n",
    "\n",
    "    # Remove rows with NaN values in either dataset\n",
    "    observed_data = observed_data.dropna()\n",
    "    downscaled_data = downscaled_data.dropna()\n",
    "\n",
    "    # Calculate MSE\n",
    "    mse = mean_squared_error(observed_data, downscaled_data)\n",
    "\n",
    "    # Calculate R2\n",
    "    r2 = r2_score(observed_data, downscaled_data)\n",
    "\n",
    "    # Calculate NSE\n",
    "    nse = 1 - (mse / observed_data.var())\n",
    "\n",
    "    # Append the results to the list\n",
    "    results.append({\n",
    "        'Station': station,\n",
    "        'NSE': round(nse, 2),\n",
    "        'MSE': round(mse, 2),\n",
    "        'R2': round(r2, 2)\n",
    "    })\n",
    "\n",
    "# Create a DataFrame to store the results\n",
    "results_df = pd.DataFrame(results)\n",
    "\n",
    "# Print the results\n",
    "print(results_df)\n"
   ]
  },
  {
   "cell_type": "code",
   "execution_count": 15,
   "id": "37926c2a",
   "metadata": {},
   "outputs": [],
   "source": [
    "import os\n",
    "output_folder = r'F:\\Research\\Drought Thesis\\Analysis\\SDSM\\Calibration And Validation MPI\\Comparison Table'\n",
    "file_name = 'Tmax Calibration.csv'\n",
    "\n",
    "results_df.to_csv(os.path.join(output_folder, file_name))"
   ]
  }
 ],
 "metadata": {
  "kernelspec": {
   "display_name": "Python 3 (ipykernel)",
   "language": "python",
   "name": "python3"
  },
  "language_info": {
   "codemirror_mode": {
    "name": "ipython",
    "version": 3
   },
   "file_extension": ".py",
   "mimetype": "text/x-python",
   "name": "python",
   "nbconvert_exporter": "python",
   "pygments_lexer": "ipython3",
   "version": "3.10.9"
  }
 },
 "nbformat": 4,
 "nbformat_minor": 5
}
